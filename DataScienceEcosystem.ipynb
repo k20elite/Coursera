{
  "metadata": {
    "kernelspec": {
      "name": "python",
      "display_name": "Python (Pyodide)",
      "language": "python"
    },
    "language_info": {
      "codemirror_mode": {
        "name": "python",
        "version": 3
      },
      "file_extension": ".py",
      "mimetype": "text/x-python",
      "name": "python",
      "nbconvert_exporter": "python",
      "pygments_lexer": "ipython3",
      "version": "3.8"
    }
  },
  "nbformat_minor": 5,
  "nbformat": 4,
  "cells": [
    {
      "id": "61e285f2-5ea6-41db-b346-c1c9439e9b75",
      "cell_type": "code",
      "source": "# Data Science Tools and Ecosystem",
      "metadata": {
        "trusted": true
      },
      "outputs": [],
      "execution_count": null
    },
    {
      "id": "87aba80e-d9c3-4846-8771-12198261c046",
      "cell_type": "code",
      "source": "In this notebook, we summarize Data Science tools, languages, and libraries. We also include examples of arithmetic expressions.",
      "metadata": {
        "trusted": true
      },
      "outputs": [],
      "execution_count": null
    },
    {
      "id": "24011b38-a98c-43a5-92ad-ed657f372a1f",
      "cell_type": "code",
      "source": "## Data Science Languages\n- Python\n- R\n- SQL\n- Julia\n- Scala",
      "metadata": {
        "trusted": true
      },
      "outputs": [],
      "execution_count": null
    },
    {
      "id": "17c9c12a-9860-4d48-8edf-1622cfd82b3f",
      "cell_type": "code",
      "source": "## Data Science Libraries\n- NumPy\n- Pandas\n- Matplotlib\n- Seaborn\n- Scikit-learn\n",
      "metadata": {
        "trusted": true
      },
      "outputs": [],
      "execution_count": null
    },
    {
      "id": "11fc8d75-1809-4cd6-899a-490d3a55f59d",
      "cell_type": "code",
      "source": "## Data Science Tools\n\n| Tool Name       | Category        |\n|---------------|----------------|\n| Jupyter Notebook | Development Environment |\n| RStudio         | Development Environment |\n| Apache Spark    | Big Data Processing |\n| TensorFlow      | Machine Learning |\n",
      "metadata": {
        "trusted": true
      },
      "outputs": [],
      "execution_count": null
    },
    {
      "id": "eea329ad-d3a1-4b23-9f88-b6c1dbedb611",
      "cell_type": "code",
      "source": "## Arithmetic Expression Examples\nBelow are examples of basic arithmetic operations in Python.\n",
      "metadata": {
        "trusted": true
      },
      "outputs": [],
      "execution_count": null
    },
    {
      "id": "14d52529-3551-4153-a2d7-e54a1f768039",
      "cell_type": "code",
      "source": "# Multiplication and Addition\nresult = (5 * 3) + 10\nresult\n",
      "metadata": {
        "trusted": true
      },
      "outputs": [
        {
          "execution_count": 4,
          "output_type": "execute_result",
          "data": {
            "text/plain": "25"
          },
          "metadata": {}
        }
      ],
      "execution_count": 4
    },
    {
      "id": "2548c996-4cff-4544-9d71-8476857a1053",
      "cell_type": "code",
      "source": "# Convert minutes to hours\nminutes = 200\nhours = minutes / 60\nhours",
      "metadata": {
        "trusted": true
      },
      "outputs": [
        {
          "execution_count": 2,
          "output_type": "execute_result",
          "data": {
            "text/plain": "3.3333333333333335"
          },
          "metadata": {}
        }
      ],
      "execution_count": 2
    },
    {
      "id": "ed0fdded-993a-496c-ab3a-6c87a844839d",
      "cell_type": "code",
      "source": "## Objectives:\n- List popular Data Science languages\n- List commonly used Data Science libraries\n- Demonstrate basic arithmetic expressions\n- Convert minutes to hours using Python\n- Share the notebook on GitHub",
      "metadata": {
        "trusted": true
      },
      "outputs": [],
      "execution_count": null
    },
    {
      "id": "46896254-5e54-4348-b891-432e93bffb84",
      "cell_type": "code",
      "source": "## Author:\n**Nguyen Le Huu Khoi**",
      "metadata": {
        "trusted": true
      },
      "outputs": [],
      "execution_count": null
    }
  ]
}